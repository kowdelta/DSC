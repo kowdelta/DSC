{
 "cells": [
  {
   "cell_type": "code",
   "execution_count": 1,
   "metadata": {},
   "outputs": [],
   "source": [
    "import numpy as np"
   ]
  },
  {
   "cell_type": "code",
   "execution_count": 3,
   "metadata": {},
   "outputs": [],
   "source": [
    "x_cons_data= np.load('../high_psi dataset/x_cons_data.npy')\n",
    "hx_five_data= np.load('../high_psi dataset/x_five_data.npy')\n",
    "lx_five_data= np.load('../low_psi_data/x_five_data.npy')"
   ]
  },
  {
   "cell_type": "code",
   "execution_count": 4,
   "metadata": {},
   "outputs": [
    {
     "data": {
      "text/plain": [
       "((39128, 283, 5), (1568, 283, 5), (602, 283, 5))"
      ]
     },
     "execution_count": 4,
     "metadata": {},
     "output_type": "execute_result"
    }
   ],
   "source": [
    "x_cons_data.shape,hx_five_data.shape,lx_five_data.shape"
   ]
  },
  {
   "cell_type": "code",
   "execution_count": 5,
   "metadata": {},
   "outputs": [
    {
     "data": {
      "text/plain": [
       "(39128, 2170)"
      ]
     },
     "execution_count": 5,
     "metadata": {},
     "output_type": "execute_result"
    }
   ],
   "source": [
    "x_cons_data.shape[0],lx_five_data.shape[0]+hx_five_data.shape[0]"
   ]
  },
  {
   "cell_type": "code",
   "execution_count": 6,
   "metadata": {},
   "outputs": [],
   "source": [
    "def cross_split(x_cons_data,hx_three_data,lx_three_data,s):\n",
    "    \n",
    "    a=int(x_cons_data.shape[0]/10)\n",
    "    b=int(hx_three_data.shape[0]/10)\n",
    "    c=int(lx_three_data.shape[0]/10)\n",
    "    \n",
    "    #9 folds for training\n",
    "    train=x_cons_data[:a*s]\n",
    "    train=np.concatenate((train,x_cons_data[a*(s+1):]),axis=0)\n",
    "\n",
    "    d=int((9*a)/(9*(b+c)))\n",
    "    print(d)\n",
    "    for i in range (d):\n",
    "        train=np.concatenate((train,hx_three_data[:b*s]),axis=0)\n",
    "        train=np.concatenate((train,hx_three_data[b*(s+1):]),axis=0)\n",
    "    \n",
    "        train=np.concatenate((train,lx_three_data[:c*s]),axis=0)\n",
    "        train=np.concatenate((train,lx_three_data[c*(s+1):]),axis=0)\n",
    "      \n",
    "    np.random.shuffle(train)\n",
    "    np.random.shuffle(train)\n",
    "    \n",
    "    # 1 fold for testing\n",
    "    \n",
    "    htest=np.concatenate((hx_three_data[b*s:b*(s+1)],x_cons_data[a*s:a*(s+1)]),axis=0)\n",
    "    lt=   np.concatenate((lx_three_data[c*s:c*(s+1)],x_cons_data[a*s:a*(s+1)]),axis=0)\n",
    "\n",
    "    test=htest\n",
    "    test=np.concatenate((test,lx_three_data[c*s:c*(s+1)]),axis=0)\n",
    "    \n",
    "    \n",
    "    return train,test,htest,lt\n"
   ]
  },
  {
   "cell_type": "code",
   "execution_count": 7,
   "metadata": {},
   "outputs": [],
   "source": [
    "l=141"
   ]
  },
  {
   "cell_type": "code",
   "execution_count": 8,
   "metadata": {},
   "outputs": [
    {
     "name": "stdout",
     "output_type": "stream",
     "text": [
      "10\n"
     ]
    },
    {
     "data": {
      "text/plain": [
       "((39970, 283, 5), (2486, 283, 5), (2426, 283, 5))"
      ]
     },
     "execution_count": 8,
     "metadata": {},
     "output_type": "execute_result"
    }
   ],
   "source": [
    "train,test,htest,ltest=cross_split(x_cons_data[:22700],hx_five_data,lx_five_data,9)\n",
    "\n",
    "y_train=train[:,l-1,0]\n",
    "y_test=test[:,l-1,0]\n",
    "hy_test=htest[:,l-1,0]\n",
    "ly_test=ltest[:,l-1,0]\n",
    "\n",
    "train.shape,test.shape,htest.shape"
   ]
  },
  {
   "cell_type": "code",
   "execution_count": 9,
   "metadata": {},
   "outputs": [],
   "source": [
    "def evaluate_AUC():\n",
    "    ypreds=model.predict([htest[:,l:(l*2)-1,:4],htest[:,-1,0:3]])\n",
    "    fpr, tpr, thresholds = roc_curve(hy_test, ypreds)\n",
    "    roc_auc = auc(fpr, tpr)\n",
    "    \n",
    "    ypreds2=model.predict([test[:,l:(l*2)-1,:4],test[:,-1,0:3]])\n",
    "    fpr2, tpr2, thresholds2 = roc_curve(y_test, ypreds2)\n",
    "    roc_auc2 = auc(fpr2, tpr2)\n",
    "    \n",
    "    ypreds3=model.predict([ltest[:,l:(l*2)-1,:4],ltest[:,-1,0:3]])\n",
    "    fpr3, tpr3, thresholds3 = roc_curve(ly_test, ypreds3)\n",
    "    roc_auc3 = auc(fpr3, tpr3)\n",
    "    \n",
    "\n",
    "    lw=2\n",
    "    \n",
    "    \n",
    "    \n",
    "    f=plt.figure()\n",
    "    plt.plot(fpr2, tpr2, color='orange', lw=1, label=    'All ALT5 events (AUC= %0.2f)' % roc_auc2)\n",
    "    \n",
    "    plt.plot(fpr, tpr, color='red', lw=1,          label='HEvents ALT5 subset (AUC= %0.2f)' % roc_auc)\n",
    "    \n",
    "    plt.plot(fpr3, tpr3, color='navy', lw=1,       label='MREvents ALT5 subset (AUC= %0.2f)' % roc_auc3)\n",
    "\n",
    "    plt.plot([0, 1], [0, 1], 'k--', lw=lw)\n",
    "    plt.xlim([0.0, 1.0])\n",
    "    plt.ylim([0.0, 1.05])\n",
    "    plt.xlabel('False Positive Rate')\n",
    "    plt.ylabel('True Positive Rate')\n",
    "    plt.title('Receiver operating characteristic')\n",
    "    plt.legend(loc=\"lower right\")\n",
    "    \n",
    "    #f.savefig(\"plots/5.pdf\", bbox_inches='tight')\n",
    "\n",
    "    plt.show()\n",
    "\n",
    "\n",
    "    return"
   ]
  },
  {
   "cell_type": "code",
   "execution_count": 11,
   "metadata": {},
   "outputs": [],
   "source": [
    "import os\n",
    "os.environ[\"CUDA_DEVICE_ORDER\"]=\"PCI_BUS_ID\"   # see issue #152\n",
    "os.environ[\"CUDA_VISIBLE_DEVICES\"]=\"0\""
   ]
  },
  {
   "cell_type": "code",
   "execution_count": 12,
   "metadata": {},
   "outputs": [
    {
     "name": "stderr",
     "output_type": "stream",
     "text": [
      "Using TensorFlow backend.\n"
     ]
    }
   ],
   "source": [
    "import numpy as np\n",
    "import keras\n",
    "from keras.models import Sequential\n",
    "from keras.layers import Dense, Dropout, Flatten, LSTM\n",
    "from keras.layers import Conv2D, MaxPooling2D, Conv1D, MaxPooling1D\n",
    "from keras.optimizers import SGD\n",
    "from keras.layers.wrappers import Bidirectional, TimeDistributed\n",
    "from keras import regularizers\n",
    "from keras import optimizers\n",
    "from keras.layers import Input, BatchNormalization\n",
    "from keras.models import Model\n",
    "from sklearn import metrics\n",
    "import tensorflow as tf\n",
    "from tensorflow.contrib.keras import layers"
   ]
  },
  {
   "cell_type": "code",
   "execution_count": 13,
   "metadata": {},
   "outputs": [],
   "source": [
    "from keras import regularizers"
   ]
  },
  {
   "cell_type": "code",
   "execution_count": 14,
   "metadata": {
    "scrolled": true
   },
   "outputs": [],
   "source": [
    "from keras import regularizers\n",
    "from sklearn.metrics import roc_auc_score\n",
    "import matplotlib.pyplot as plt\n",
    "from sklearn.metrics import roc_curve, auc\n",
    "from sklearn.metrics import confusion_matrix\n",
    "from sklearn.metrics import precision_recall_curve\n",
    "from keras import initializers\n",
    "from keras.layers import Activation, Dense, Add"
   ]
  },
  {
   "cell_type": "code",
   "execution_count": 15,
   "metadata": {},
   "outputs": [],
   "source": [
    "aucc=np.zeros((10,3))"
   ]
  },
  {
   "cell_type": "code",
   "execution_count": 16,
   "metadata": {},
   "outputs": [
    {
     "name": "stderr",
     "output_type": "stream",
     "text": [
      "/home/zakaria/anaconda3/envs/zak/lib/python3.5/site-packages/ipykernel_launcher.py:5: UserWarning: Update your `Conv1D` call to the Keras 2 API: `Conv1D(kernel_initializer=<keras.ini..., filters=32, activation=\"relu\", kernel_size=7, padding=\"same\", strides=1)`\n",
      "  \"\"\"\n",
      "/home/zakaria/anaconda3/envs/zak/lib/python3.5/site-packages/ipykernel_launcher.py:7: UserWarning: Update your `MaxPooling1D` call to the Keras 2 API: `MaxPooling1D(pool_size=2, strides=2)`\n",
      "  import sys\n",
      "/home/zakaria/anaconda3/envs/zak/lib/python3.5/site-packages/ipykernel_launcher.py:9: UserWarning: Update your `Conv1D` call to the Keras 2 API: `Conv1D(kernel_initializer=<keras.ini..., kernel_size=4, strides=1, filters=8)`\n",
      "  if __name__ == '__main__':\n",
      "/home/zakaria/anaconda3/envs/zak/lib/python3.5/site-packages/ipykernel_launcher.py:12: UserWarning: Update your `MaxPooling1D` call to the Keras 2 API: `MaxPooling1D(pool_size=2, strides=2)`\n",
      "  if sys.path[0] == '':\n",
      "/home/zakaria/anaconda3/envs/zak/lib/python3.5/site-packages/ipykernel_launcher.py:15: UserWarning: Update your `Conv1D` call to the Keras 2 API: `Conv1D(kernel_initializer=<keras.ini..., kernel_size=3, strides=1, filters=8)`\n",
      "  from ipykernel import kernelapp as app\n",
      "/home/zakaria/anaconda3/envs/zak/lib/python3.5/site-packages/ipykernel_launcher.py:18: UserWarning: Update your `MaxPooling1D` call to the Keras 2 API: `MaxPooling1D(pool_size=2, strides=2)`\n"
     ]
    },
    {
     "name": "stdout",
     "output_type": "stream",
     "text": [
      "__________________________________________________________________________________________________\n",
      "Layer (type)                    Output Shape         Param #     Connected to                     \n",
      "==================================================================================================\n",
      "input_1 (InputLayer)            (None, 140, 4)       0                                            \n",
      "__________________________________________________________________________________________________\n",
      "conv1d_1 (Conv1D)               (None, 140, 32)      928         input_1[0][0]                    \n",
      "__________________________________________________________________________________________________\n",
      "dropout_1 (Dropout)             (None, 140, 32)      0           conv1d_1[0][0]                   \n",
      "__________________________________________________________________________________________________\n",
      "max_pooling1d_1 (MaxPooling1D)  (None, 70, 32)       0           dropout_1[0][0]                  \n",
      "__________________________________________________________________________________________________\n",
      "conv1d_2 (Conv1D)               (None, 67, 8)        1032        max_pooling1d_1[0][0]            \n",
      "__________________________________________________________________________________________________\n",
      "dropout_2 (Dropout)             (None, 67, 8)        0           conv1d_2[0][0]                   \n",
      "__________________________________________________________________________________________________\n",
      "activation_1 (Activation)       (None, 67, 8)        0           dropout_2[0][0]                  \n",
      "__________________________________________________________________________________________________\n",
      "max_pooling1d_2 (MaxPooling1D)  (None, 33, 8)        0           activation_1[0][0]               \n",
      "__________________________________________________________________________________________________\n",
      "conv1d_3 (Conv1D)               (None, 31, 8)        200         max_pooling1d_2[0][0]            \n",
      "__________________________________________________________________________________________________\n",
      "dropout_3 (Dropout)             (None, 31, 8)        0           conv1d_3[0][0]                   \n",
      "__________________________________________________________________________________________________\n",
      "activation_2 (Activation)       (None, 31, 8)        0           dropout_3[0][0]                  \n",
      "__________________________________________________________________________________________________\n",
      "max_pooling1d_3 (MaxPooling1D)  (None, 15, 8)        0           activation_2[0][0]               \n",
      "__________________________________________________________________________________________________\n",
      "flatten_1 (Flatten)             (None, 120)          0           max_pooling1d_3[0][0]            \n",
      "__________________________________________________________________________________________________\n",
      "input_2 (InputLayer)            (None, 3)            0                                            \n",
      "__________________________________________________________________________________________________\n",
      "concatenate_1 (Concatenate)     (None, 123)          0           flatten_1[0][0]                  \n",
      "                                                                 input_2[0][0]                    \n",
      "__________________________________________________________________________________________________\n",
      "dense_1 (Dense)                 (None, 32)           3968        concatenate_1[0][0]              \n",
      "__________________________________________________________________________________________________\n",
      "dropout_4 (Dropout)             (None, 32)           0           dense_1[0][0]                    \n",
      "__________________________________________________________________________________________________\n",
      "dense_2 (Dense)                 (None, 1)            33          dropout_4[0][0]                  \n",
      "==================================================================================================\n",
      "Total params: 6,161\n",
      "Trainable params: 6,161\n",
      "Non-trainable params: 0\n",
      "__________________________________________________________________________________________________\n",
      "None\n"
     ]
    }
   ],
   "source": [
    "inputs1 = Input(shape=(l-1, 4))\n",
    "inputs3 = Input(shape=(3,))\n",
    "\n",
    "\n",
    "x=Conv1D(nb_filter=32,activation='relu',filter_length=7,strides=1,kernel_initializer=initializers.random_uniform(),padding=\"same\") (inputs1)\n",
    "x=Dropout(0.2)(x)\n",
    "x=MaxPooling1D(pool_length=2, stride=2)(x)\n",
    "\n",
    "x=Conv1D(nb_filter=8,filter_length=4,strides=1,kernel_initializer=initializers.random_uniform()) (x)\n",
    "x=Dropout(0.2)(x)\n",
    "x=Activation('relu')(x)\n",
    "x=MaxPooling1D(pool_length=2, stride=2)(x)\n",
    "\n",
    "\n",
    "x=Conv1D(nb_filter=8,filter_length=3,strides=1,kernel_initializer=initializers.random_uniform()) (x)\n",
    "x=Dropout(0.2)(x)\n",
    "x=Activation('relu')(x)\n",
    "x=MaxPooling1D(pool_length=2, stride=2)(x)\n",
    "\n",
    "\n",
    "\n",
    "\n",
    "\n",
    "\n",
    "\n",
    "x2=Flatten()(x)\n",
    "\n",
    "\n",
    "x2=keras.layers.concatenate([x2,inputs3],axis=1)\n",
    "\n",
    "\n",
    "\n",
    "\n",
    "\n",
    "x3=Dense(32, activation='relu',)(x2)\n",
    "x3=Dropout(0.5)(x3)\n",
    "\n",
    "\n",
    "x3=Dense(1, activation='sigmoid',  )(x3)\n",
    "\n",
    "\n",
    "model = Model(inputs=[inputs1,inputs3], outputs=x3)\n",
    "\n",
    "\n",
    "\n",
    "\n",
    "model.compile(loss='binary_crossentropy',optimizer=optimizers.Adam(lr=0.00005,\n",
    "                                        beta_1=0.9,\n",
    "                                        beta_2=0.999,\n",
    "                                        epsilon=1e-08,\n",
    "                                        decay=0.0),metrics=['accuracy'])\n",
    "\n",
    "\n",
    "\n",
    "print (model.summary())\n",
    "from keras.utils.vis_utils import plot_model\n",
    "plot_model(model, to_file='model_w2.png')"
   ]
  },
  {
   "cell_type": "code",
   "execution_count": 23,
   "metadata": {
    "scrolled": true
   },
   "outputs": [
    {
     "name": "stdout",
     "output_type": "stream",
     "text": [
      "epoch : 0\n",
      "Train on 39970 samples, validate on 2486 samples\n",
      "Epoch 1/1\n",
      "39970/39970 [==============================] - 3s 66us/step - loss: 0.5131 - acc: 0.7501 - val_loss: 0.4698 - val_acc: 0.7868\n",
      "AUC under ROC for high inclusion exons: 0.7874449339207048\n",
      "epoch : 1\n",
      "Train on 39970 samples, validate on 2486 samples\n",
      "Epoch 1/1\n",
      "39970/39970 [==============================] - 3s 67us/step - loss: 0.5132 - acc: 0.7480 - val_loss: 0.4365 - val_acc: 0.8262\n",
      "AUC under ROC for high inclusion exons: 0.7869055687337627\n",
      "epoch : 2\n",
      "Train on 39970 samples, validate on 2486 samples\n",
      "Epoch 1/1\n",
      "39970/39970 [==============================] - 3s 68us/step - loss: 0.5131 - acc: 0.7484 - val_loss: 0.4618 - val_acc: 0.7940\n",
      "AUC under ROC for high inclusion exons: 0.786383146955834\n",
      "epoch : 3\n",
      "Train on 39970 samples, validate on 2486 samples\n",
      "Epoch 1/1\n",
      "39970/39970 [==============================] - 3s 67us/step - loss: 0.5099 - acc: 0.7525 - val_loss: 0.4587 - val_acc: 0.8005\n",
      "AUC under ROC for high inclusion exons: 0.788037953236191\n",
      "epoch : 4\n",
      "Train on 39970 samples, validate on 2486 samples\n",
      "Epoch 1/1\n",
      "39970/39970 [==============================] - 3s 68us/step - loss: 0.5086 - acc: 0.7516 - val_loss: 0.4384 - val_acc: 0.8230\n",
      "AUC under ROC for high inclusion exons: 0.7858296622613803\n",
      "epoch : 5\n",
      "Train on 39970 samples, validate on 2486 samples\n",
      "Epoch 1/1\n",
      "39970/39970 [==============================] - 3s 69us/step - loss: 0.5088 - acc: 0.7506 - val_loss: 0.4297 - val_acc: 0.8290\n",
      "AUC under ROC for high inclusion exons: 0.7866485936970518\n",
      "epoch : 6\n",
      "Train on 39970 samples, validate on 2486 samples\n",
      "Epoch 1/1\n",
      "39970/39970 [==============================] - 3s 64us/step - loss: 0.5090 - acc: 0.7521 - val_loss: 0.4738 - val_acc: 0.7808\n",
      "AUC under ROC for high inclusion exons: 0.7880916073647352\n",
      "epoch : 7\n",
      "Train on 39970 samples, validate on 2486 samples\n",
      "Epoch 1/1\n",
      "39970/39970 [==============================] - 3s 68us/step - loss: 0.5122 - acc: 0.7513 - val_loss: 0.4441 - val_acc: 0.8174\n",
      "AUC under ROC for high inclusion exons: 0.7886648593697052\n",
      "epoch : 8\n",
      "Train on 39970 samples, validate on 2486 samples\n",
      "Epoch 1/1\n",
      "39970/39970 [==============================] - 3s 73us/step - loss: 0.5084 - acc: 0.7500 - val_loss: 0.4422 - val_acc: 0.8178\n",
      "AUC under ROC for high inclusion exons: 0.7889387778154298\n",
      "epoch : 9\n",
      "Train on 39970 samples, validate on 2486 samples\n",
      "Epoch 1/1\n",
      "39970/39970 [==============================] - 3s 72us/step - loss: 0.5125 - acc: 0.7514 - val_loss: 0.4515 - val_acc: 0.8045\n",
      "AUC under ROC for high inclusion exons: 0.7875607138822998\n",
      "epoch : 10\n",
      "Train on 39970 samples, validate on 2486 samples\n",
      "Epoch 1/1\n",
      "39970/39970 [==============================] - 3s 72us/step - loss: 0.5065 - acc: 0.7523 - val_loss: 0.4589 - val_acc: 0.7985\n",
      "AUC under ROC for high inclusion exons: 0.7901332881509093\n",
      "epoch : 11\n",
      "Train on 39970 samples, validate on 2486 samples\n",
      "Epoch 1/1\n",
      "39970/39970 [==============================] - 3s 65us/step - loss: 0.5080 - acc: 0.7499 - val_loss: 0.4513 - val_acc: 0.8053\n",
      "AUC under ROC for high inclusion exons: 0.7873884558906585\n",
      "epoch : 12\n",
      "Train on 39970 samples, validate on 2486 samples\n",
      "Epoch 1/1\n",
      "39970/39970 [==============================] - 3s 69us/step - loss: 0.5078 - acc: 0.7514 - val_loss: 0.4382 - val_acc: 0.8226\n",
      "AUC under ROC for high inclusion exons: 0.7872359652095335\n",
      "epoch : 13\n",
      "Train on 39970 samples, validate on 2486 samples\n",
      "Epoch 1/1\n",
      "39970/39970 [==============================] - 3s 68us/step - loss: 0.5088 - acc: 0.7499 - val_loss: 0.4427 - val_acc: 0.8166\n",
      "AUC under ROC for high inclusion exons: 0.7889077148989043\n",
      "epoch : 14\n",
      "Train on 39970 samples, validate on 2486 samples\n",
      "Epoch 1/1\n",
      "39970/39970 [==============================] - 3s 68us/step - loss: 0.5061 - acc: 0.7518 - val_loss: 0.4520 - val_acc: 0.8041\n",
      "AUC under ROC for high inclusion exons: 0.7894753191008698\n",
      "epoch : 15\n",
      "Train on 39970 samples, validate on 2486 samples\n",
      "Epoch 1/1\n",
      "39970/39970 [==============================] - 3s 70us/step - loss: 0.5061 - acc: 0.7525 - val_loss: 0.4462 - val_acc: 0.8113\n",
      "AUC under ROC for high inclusion exons: 0.7897153507285666\n",
      "epoch : 16\n",
      "Train on 39970 samples, validate on 2486 samples\n",
      "Epoch 1/1\n",
      "39970/39970 [==============================] - 3s 68us/step - loss: 0.5066 - acc: 0.7528 - val_loss: 0.4284 - val_acc: 0.8315\n",
      "AUC under ROC for high inclusion exons: 0.7871399525584547\n",
      "epoch : 17\n",
      "Train on 39970 samples, validate on 2486 samples\n",
      "Epoch 1/1\n",
      "39970/39970 [==============================] - 3s 72us/step - loss: 0.5058 - acc: 0.7543 - val_loss: 0.4565 - val_acc: 0.8001\n",
      "AUC under ROC for high inclusion exons: 0.7889811363379646\n",
      "epoch : 18\n",
      "Train on 39970 samples, validate on 2486 samples\n",
      "Epoch 1/1\n",
      "39970/39970 [==============================] - 3s 68us/step - loss: 0.5062 - acc: 0.7533 - val_loss: 0.4328 - val_acc: 0.8254\n",
      "AUC under ROC for high inclusion exons: 0.7884389472495199\n",
      "epoch : 19\n",
      "Train on 39970 samples, validate on 2486 samples\n",
      "Epoch 1/1\n",
      "39970/39970 [==============================] - 3s 72us/step - loss: 0.5057 - acc: 0.7544 - val_loss: 0.4354 - val_acc: 0.8230\n",
      "AUC under ROC for high inclusion exons: 0.7873432734666214\n",
      "epoch : 20\n",
      "Train on 39970 samples, validate on 2486 samples\n",
      "Epoch 1/1\n",
      "39970/39970 [==============================] - 3s 69us/step - loss: 0.5069 - acc: 0.7529 - val_loss: 0.4370 - val_acc: 0.8206\n",
      "AUC under ROC for high inclusion exons: 0.7859313227154636\n",
      "epoch : 21\n",
      "Train on 39970 samples, validate on 2486 samples\n",
      "Epoch 1/1\n",
      "39970/39970 [==============================] - 2s 62us/step - loss: 0.5067 - acc: 0.7518 - val_loss: 0.4657 - val_acc: 0.7900\n",
      "AUC under ROC for high inclusion exons: 0.7880972551677398\n",
      "epoch : 22\n",
      "Train on 39970 samples, validate on 2486 samples\n",
      "Epoch 1/1\n",
      "39970/39970 [==============================] - 3s 64us/step - loss: 0.5059 - acc: 0.7516 - val_loss: 0.4649 - val_acc: 0.7936\n",
      "AUC under ROC for high inclusion exons: 0.7926606799954818\n",
      "epoch : 23\n",
      "Train on 39970 samples, validate on 2486 samples\n",
      "Epoch 1/1\n",
      "39970/39970 [==============================] - 3s 72us/step - loss: 0.5058 - acc: 0.7558 - val_loss: 0.4562 - val_acc: 0.8017\n",
      "AUC under ROC for high inclusion exons: 0.7908872698520275\n",
      "epoch : 24\n",
      "Train on 39970 samples, validate on 2486 samples\n",
      "Epoch 1/1\n",
      "39970/39970 [==============================] - 3s 67us/step - loss: 0.5045 - acc: 0.7537 - val_loss: 0.4821 - val_acc: 0.7719\n",
      "AUC under ROC for high inclusion exons: 0.7923698181407433\n",
      "epoch : 25\n",
      "Train on 39970 samples, validate on 2486 samples\n",
      "Epoch 1/1\n",
      "39970/39970 [==============================] - 3s 68us/step - loss: 0.5048 - acc: 0.7546 - val_loss: 0.4576 - val_acc: 0.7969\n",
      "AUC under ROC for high inclusion exons: 0.7894866147068789\n",
      "epoch : 26\n",
      "Train on 39970 samples, validate on 2486 samples\n",
      "Epoch 1/1\n",
      "39970/39970 [==============================] - 3s 68us/step - loss: 0.5021 - acc: 0.7555 - val_loss: 0.4372 - val_acc: 0.8202\n",
      "AUC under ROC for high inclusion exons: 0.7894357844798373\n",
      "epoch : 27\n",
      "Train on 39970 samples, validate on 2486 samples\n",
      "Epoch 1/1\n",
      "39970/39970 [==============================] - 3s 68us/step - loss: 0.5074 - acc: 0.7530 - val_loss: 0.4629 - val_acc: 0.7932\n",
      "AUC under ROC for high inclusion exons: 0.7908025528069582\n",
      "epoch : 28\n",
      "Train on 39970 samples, validate on 2486 samples\n",
      "Epoch 1/1\n",
      "39970/39970 [==============================] - 3s 71us/step - loss: 0.5052 - acc: 0.7531 - val_loss: 0.4556 - val_acc: 0.8009\n",
      "AUC under ROC for high inclusion exons: 0.790282954930532\n",
      "epoch : 29\n",
      "Train on 39970 samples, validate on 2486 samples\n",
      "Epoch 1/1\n",
      "39970/39970 [==============================] - 3s 66us/step - loss: 0.5034 - acc: 0.7549 - val_loss: 0.4495 - val_acc: 0.8057\n",
      "AUC under ROC for high inclusion exons: 0.7893200045182425\n",
      "epoch : 30\n",
      "Train on 39970 samples, validate on 2486 samples\n",
      "Epoch 1/1\n",
      "39970/39970 [==============================] - 3s 68us/step - loss: 0.5021 - acc: 0.7555 - val_loss: 0.4415 - val_acc: 0.8138\n",
      "AUC under ROC for high inclusion exons: 0.7889190105049136\n",
      "epoch : 31\n",
      "Train on 39970 samples, validate on 2486 samples\n",
      "Epoch 1/1\n",
      "39970/39970 [==============================] - 3s 73us/step - loss: 0.5037 - acc: 0.7556 - val_loss: 0.4409 - val_acc: 0.8170\n",
      "AUC under ROC for high inclusion exons: 0.7904241500056479\n",
      "epoch : 32\n",
      "Train on 39970 samples, validate on 2486 samples\n",
      "Epoch 1/1\n"
     ]
    },
    {
     "name": "stdout",
     "output_type": "stream",
     "text": [
      "39970/39970 [==============================] - 3s 67us/step - loss: 0.5061 - acc: 0.7520 - val_loss: 0.4427 - val_acc: 0.8138\n",
      "AUC under ROC for high inclusion exons: 0.7897012312210551\n",
      "epoch : 33\n",
      "Train on 39970 samples, validate on 2486 samples\n",
      "Epoch 1/1\n",
      "39970/39970 [==============================] - 3s 68us/step - loss: 0.5035 - acc: 0.7554 - val_loss: 0.4393 - val_acc: 0.8170\n",
      "AUC under ROC for high inclusion exons: 0.7919631763244098\n",
      "epoch : 34\n",
      "Train on 39970 samples, validate on 2486 samples\n",
      "Epoch 1/1\n",
      "39970/39970 [==============================] - 3s 71us/step - loss: 0.5067 - acc: 0.7546 - val_loss: 0.4556 - val_acc: 0.7961\n",
      "AUC under ROC for high inclusion exons: 0.7896362814865017\n",
      "epoch : 35\n",
      "Train on 39970 samples, validate on 2486 samples\n",
      "Epoch 1/1\n",
      "39970/39970 [==============================] - 3s 69us/step - loss: 0.5044 - acc: 0.7524 - val_loss: 0.4494 - val_acc: 0.8053\n",
      "AUC under ROC for high inclusion exons: 0.7899101999322263\n",
      "epoch : 36\n",
      "Train on 39970 samples, validate on 2486 samples\n",
      "Epoch 1/1\n",
      "39970/39970 [==============================] - 3s 69us/step - loss: 0.5039 - acc: 0.7532 - val_loss: 0.4452 - val_acc: 0.8113\n",
      "AUC under ROC for high inclusion exons: 0.7921806167400882\n",
      "epoch : 37\n",
      "Train on 39970 samples, validate on 2486 samples\n",
      "Epoch 1/1\n",
      "39970/39970 [==============================] - 3s 70us/step - loss: 0.5017 - acc: 0.7567 - val_loss: 0.4555 - val_acc: 0.7997\n",
      "AUC under ROC for high inclusion exons: 0.7895713317519485\n",
      "epoch : 38\n",
      "Train on 39970 samples, validate on 2486 samples\n",
      "Epoch 1/1\n",
      "39970/39970 [==============================] - 3s 69us/step - loss: 0.5048 - acc: 0.7538 - val_loss: 0.4353 - val_acc: 0.8190\n",
      "AUC under ROC for high inclusion exons: 0.7903648480740991\n",
      "epoch : 39\n",
      "Train on 39970 samples, validate on 2486 samples\n",
      "Epoch 1/1\n",
      "39970/39970 [==============================] - 3s 72us/step - loss: 0.5053 - acc: 0.7534 - val_loss: 0.4432 - val_acc: 0.8109\n",
      "AUC under ROC for high inclusion exons: 0.7926663277984863\n",
      "epoch : 40\n",
      "Train on 39970 samples, validate on 2486 samples\n",
      "Epoch 1/1\n",
      "39970/39970 [==============================] - 3s 68us/step - loss: 0.5039 - acc: 0.7525 - val_loss: 0.4250 - val_acc: 0.8315\n",
      "AUC under ROC for high inclusion exons: 0.7913955721224444\n",
      "epoch : 41\n",
      "Train on 39970 samples, validate on 2486 samples\n",
      "Epoch 1/1\n",
      "39970/39970 [==============================] - 3s 67us/step - loss: 0.5029 - acc: 0.7556 - val_loss: 0.4237 - val_acc: 0.8335\n",
      "AUC under ROC for high inclusion exons: 0.7905653450807635\n",
      "epoch : 42\n",
      "Train on 39970 samples, validate on 2486 samples\n",
      "Epoch 1/1\n",
      "39970/39970 [==============================] - 3s 68us/step - loss: 0.4999 - acc: 0.7570 - val_loss: 0.4314 - val_acc: 0.8262\n",
      "AUC under ROC for high inclusion exons: 0.7916440754546481\n",
      "epoch : 43\n",
      "Train on 39970 samples, validate on 2486 samples\n",
      "Epoch 1/1\n",
      "39970/39970 [==============================] - 3s 71us/step - loss: 0.5011 - acc: 0.7557 - val_loss: 0.4681 - val_acc: 0.7864\n",
      "AUC under ROC for high inclusion exons: 0.7934174855981023\n",
      "epoch : 44\n",
      "Train on 39970 samples, validate on 2486 samples\n",
      "Epoch 1/1\n",
      "39970/39970 [==============================] - 3s 64us/step - loss: 0.5011 - acc: 0.7558 - val_loss: 0.4356 - val_acc: 0.8202\n",
      "AUC under ROC for high inclusion exons: 0.7905088670507172\n",
      "epoch : 45\n",
      "Train on 39970 samples, validate on 2486 samples\n",
      "Epoch 1/1\n",
      "39970/39970 [==============================] - 3s 66us/step - loss: 0.4980 - acc: 0.7581 - val_loss: 0.4319 - val_acc: 0.8194\n",
      "AUC under ROC for high inclusion exons: 0.7906359426183214\n",
      "epoch : 46\n",
      "Train on 39970 samples, validate on 2486 samples\n",
      "Epoch 1/1\n",
      "39970/39970 [==============================] - 3s 68us/step - loss: 0.5004 - acc: 0.7566 - val_loss: 0.4349 - val_acc: 0.8186\n",
      "AUC under ROC for high inclusion exons: 0.787464701231221\n",
      "epoch : 47\n",
      "Train on 39970 samples, validate on 2486 samples\n",
      "Epoch 1/1\n",
      "39970/39970 [==============================] - 3s 72us/step - loss: 0.5024 - acc: 0.7566 - val_loss: 0.4471 - val_acc: 0.8093\n",
      "AUC under ROC for high inclusion exons: 0.7907912572009489\n",
      "epoch : 48\n",
      "Train on 39970 samples, validate on 2486 samples\n",
      "Epoch 1/1\n",
      "39970/39970 [==============================] - 3s 70us/step - loss: 0.5033 - acc: 0.7576 - val_loss: 0.4567 - val_acc: 0.7981\n",
      "AUC under ROC for high inclusion exons: 0.7915960691291087\n",
      "epoch : 49\n",
      "Train on 39970 samples, validate on 2486 samples\n",
      "Epoch 1/1\n",
      "39970/39970 [==============================] - 3s 72us/step - loss: 0.4989 - acc: 0.7569 - val_loss: 0.4405 - val_acc: 0.8154\n",
      "AUC under ROC for high inclusion exons: 0.7926691516999887\n"
     ]
    }
   ],
   "source": [
    "for i in range (50):\n",
    "    \n",
    "\n",
    "    \n",
    "    print('epoch :',i)\n",
    "    model.fit([train[:,l:(l*2)-1,:4],train[:,-1,0:3]], y_train,validation_data=([test[:,l:(l*2)-1,:4],test[:,-1,0:3]], y_test), epochs = 1, verbose = 1, batch_size = 126)\n",
    "    y_=model.predict([htest[:,l:(l*2)-1,:4],htest[:,-1,0:3]])\n",
    "    print(\"AUC under ROC for high inclusion exons:\",roc_auc_score(hy_test, y_))"
   ]
  },
  {
   "cell_type": "code",
   "execution_count": 24,
   "metadata": {},
   "outputs": [
    {
     "data": {
      "text/plain": [
       "(0.7926691516999887, 0.8020484581497797, 0.7952745146027085)"
      ]
     },
     "execution_count": 24,
     "metadata": {},
     "output_type": "execute_result"
    }
   ],
   "source": [
    "y1_=model.predict([htest[:,l:(l*2)-1,:4],htest[:,-1,0:3]])\n",
    "ac1 = roc_auc_score(hy_test, y1_)\n",
    "\n",
    "y2_=model.predict([ltest[:,l:(l*2)-1,:4],ltest[:,-1,0:3]])\n",
    "ac3 = roc_auc_score(ly_test, y2_)\n",
    "\n",
    "y_=model.predict([test[:,l:(l*2)-1,:4],test[:,-1,0:3]])\n",
    "ac2 = roc_auc_score(y_test, y_)\n",
    "ac1,ac3,ac2"
   ]
  },
  {
   "cell_type": "code",
   "execution_count": 25,
   "metadata": {},
   "outputs": [
    {
     "data": {
      "image/png": "[encoded data removed]",
      "text/plain": [
       "<Figure size 432x288 with 1 Axes>"
      ]
     },
     "metadata": {},
     "output_type": "display_data"
    }
   ],
   "source": [
    "evaluate_AUC()"
   ]
  },
  {
   "cell_type": "code",
   "execution_count": 26,
   "metadata": {},
   "outputs": [],
   "source": [
    "model.save('5_model.h5')"
   ]
  },
  {
   "cell_type": "code",
   "execution_count": null,
   "metadata": {},
   "outputs": [],
   "source": []
  }
 ],
 "metadata": {
  "kernelspec": {
   "display_name": "Python 3",
   "language": "python",
   "name": "python3"
  },
  "language_info": {
   "codemirror_mode": {
    "name": "ipython",
    "version": 3
   },
   "file_extension": ".py",
   "mimetype": "text/x-python",
   "name": "python",
   "nbconvert_exporter": "python",
   "pygments_lexer": "ipython3",
   "version": "3.5.5"
  }
 },
 "nbformat": 4,
 "nbformat_minor": 2
}
